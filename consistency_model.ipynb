{
 "cells": [
  {
   "cell_type": "markdown",
   "id": "5a120498-1518-4944-bee8-98225d59c3a7",
   "metadata": {},
   "source": [
    "# Consistency-Models with Gradient  \n",
    "\n",
    "We can use Consistency-Models on a wide variety of single GPU and Multi GPU machines with effectively no time spent waiting for the model files to download.\n",
    "\n",
    "To run Consistency-Models in this notebook, run the cell below to install the required dependencies."
   ]
  },
  {
   "cell_type": "code",
   "execution_count": null,
   "id": "6a5c93f2-17b1-4c3a-8812-419074df147f",
   "metadata": {},
   "outputs": [],
   "source": [
    "!bash installations.sh"
   ]
  },
  {
   "cell_type": "markdown",
   "id": "20cfd75d-f73f-4f5c-8ae6-73e3ed6a5592",
   "metadata": {},
   "source": [
    "## Get data & start training (Optional)  \n",
    "\n",
    "This will take a long time to run, and requires downloading large datasets. Run the below cell to download the datasets."
   ]
  },
  {
   "cell_type": "code",
   "execution_count": null,
   "id": "33c5051e-4518-406a-889e-0f3d626d58f1",
   "metadata": {},
   "outputs": [],
   "source": [
    "# Download the ImageNet dataset\n",
    "!cd datasets/imagenet/ && bash fetch_imagenet.sh\n",
    "\n",
    "# Download the LSUN Bedroom dataset\n",
    "!cd datasets/lsun_bedroom/ && bash fetch_lsun_bedroom.sh"
   ]
  },
  {
   "cell_type": "markdown",
   "id": "31b670dd-55c4-478a-84a2-d377cdc70c81",
   "metadata": {},
   "source": [
    "If you want to train the models yourself, you can run the corresponding training bash script as shown in the below cell."
   ]
  },
  {
   "cell_type": "code",
   "execution_count": null,
   "id": "6e67e53b-cca9-4e1b-a051-1bc30189d757",
   "metadata": {},
   "outputs": [],
   "source": [
    "# EDM Model on ImageNet dataset\n",
    "!bash scripts/train_edm/train_imagenet.sh\n",
    "\n",
    "# EDM Model on LSUN Bedroom dataset\n",
    "!bash scripts/train_edm/train_lsun_bedroom.sh\n",
    "\n",
    "# Consistency Distillation Model on ImageNet dataset (L2 measure)\n",
    "!bash scripts/train_cd/train_imagenet_l2.sh\n",
    "\n",
    "# Consistency Distillation Model on ImageNet dataset (LPIPS measure)\n",
    "!bash scripts/train_cd/train_imagenet_lpips.sh\n",
    "\n",
    "# Consistency Distillation Model on LSUN Bedroom dataset (L2 measure)\n",
    "!bash scripts/train_cd/train_lsun_bedroom_l2.sh\n",
    "\n",
    "# Consistency Distillation Model on LSUN Bedroom dataset (LPIPS measure)\n",
    "!bash scripts/train_cd/train_lsun_bedroom_lpips.sh\n",
    "\n",
    "# Consistency Training Model on ImageNet dataset\n",
    "!bash scripts/train_ct/train_imagenet.sh\n",
    "\n",
    "# Consistency Training Model on LSUN Bedroom dataset\n",
    "!bash scripts/train_ct/train_lsun_bedroom.sh"
   ]
  },
  {
   "cell_type": "markdown",
   "id": "5cf8e89e-3060-40d0-9563-5355d10bc020",
   "metadata": {},
   "source": [
    "## Get pre-trained model checkpoints\n",
    "\n",
    "You can download checkpoints for already trained models from [the original model repository](https://github.com/openai/consistency_models). Note that we are only downloading checkpoints corresponding 12 different model variants available in original repository.\n"
   ]
  },
  {
   "cell_type": "code",
   "execution_count": null,
   "id": "71d61dc3-6049-4c7d-9054-bc70cbd9c1e4",
   "metadata": {},
   "outputs": [],
   "source": [
    "!bash checkpoints/fetch_checkpoints.sh"
   ]
  },
  {
   "cell_type": "markdown",
   "id": "eb80f468-2a14-43fa-8f67-d73692071a39",
   "metadata": {},
   "source": [
    "## Launch Gradio App  \n",
    "\n",
    "We have constructed a Gradio application where you can generate images using the models for which you have downloaded checkpoints.\n",
    "\n",
    "You should be able to run the model even on single 8G GPU. Run the below code and try the model yourself."
   ]
  },
  {
   "cell_type": "code",
   "execution_count": null,
   "id": "79304528-d593-4559-abc0-28abfc63d7d4",
   "metadata": {},
   "outputs": [],
   "source": [
    "!gradio app.py"
   ]
  }
 ],
 "metadata": {
  "kernelspec": {
   "display_name": "Python 3 (ipykernel)",
   "language": "python",
   "name": "python3"
  },
  "language_info": {
   "codemirror_mode": {
    "name": "ipython",
    "version": 3
   },
   "file_extension": ".py",
   "mimetype": "text/x-python",
   "name": "python",
   "nbconvert_exporter": "python",
   "pygments_lexer": "ipython3",
   "version": "3.9.16"
  }
 },
 "nbformat": 4,
 "nbformat_minor": 5
}
